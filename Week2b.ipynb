{
 "cells": [
  {
   "cell_type": "code",
   "execution_count": 1,
   "metadata": {},
   "outputs": [],
   "source": [
    "import pandas as pd\n",
    "import seaborn as sns"
   ]
  },
  {
   "cell_type": "markdown",
   "metadata": {},
   "source": [
    "### Portfolio assignment 11\n",
    "20 min: Do a Numerical VS Categorical bivariate analysis on the penguins dataset.\n",
    "- Choose one of the categorical columns: species, island or sex\n",
    "- use .groupby('<columnname>').mean() too look at the means of the numerical columns. Does it look like there is a difference between categories?\n",
    "- Use the seaborn barplot to plot the mean and confidence. Create this plot for each of the numerical columns (bill_length_mm\tbill_depth_mm, flipper_length_mm, body_mass_g)\n",
    "- For each of the plots, write a conclusion: Is there a statistically significant difference for this numerical column for each category?\n",
    "- Optional: Repeat this proces for the other two categorical columns\n",
    "   "
   ]
  },
  {
   "cell_type": "code",
   "execution_count": 2,
   "metadata": {},
   "outputs": [],
   "source": [
    "penguins = sns.load_dataset(\"penguins\")"
   ]
  },
  {
   "cell_type": "code",
   "execution_count": 3,
   "metadata": {},
   "outputs": [
    {
     "data": {
      "text/html": [
       "<div>\n",
       "<style scoped>\n",
       "    .dataframe tbody tr th:only-of-type {\n",
       "        vertical-align: middle;\n",
       "    }\n",
       "\n",
       "    .dataframe tbody tr th {\n",
       "        vertical-align: top;\n",
       "    }\n",
       "\n",
       "    .dataframe thead th {\n",
       "        text-align: right;\n",
       "    }\n",
       "</style>\n",
       "<table border=\"1\" class=\"dataframe\">\n",
       "  <thead>\n",
       "    <tr style=\"text-align: right;\">\n",
       "      <th></th>\n",
       "      <th>species</th>\n",
       "      <th>island</th>\n",
       "      <th>bill_length_mm</th>\n",
       "      <th>bill_depth_mm</th>\n",
       "      <th>flipper_length_mm</th>\n",
       "      <th>body_mass_g</th>\n",
       "      <th>sex</th>\n",
       "    </tr>\n",
       "  </thead>\n",
       "  <tbody>\n",
       "    <tr>\n",
       "      <th>0</th>\n",
       "      <td>Adelie</td>\n",
       "      <td>Torgersen</td>\n",
       "      <td>39.1</td>\n",
       "      <td>18.7</td>\n",
       "      <td>181.0</td>\n",
       "      <td>3750.0</td>\n",
       "      <td>Male</td>\n",
       "    </tr>\n",
       "    <tr>\n",
       "      <th>1</th>\n",
       "      <td>Adelie</td>\n",
       "      <td>Torgersen</td>\n",
       "      <td>39.5</td>\n",
       "      <td>17.4</td>\n",
       "      <td>186.0</td>\n",
       "      <td>3800.0</td>\n",
       "      <td>Female</td>\n",
       "    </tr>\n",
       "    <tr>\n",
       "      <th>2</th>\n",
       "      <td>Adelie</td>\n",
       "      <td>Torgersen</td>\n",
       "      <td>40.3</td>\n",
       "      <td>18.0</td>\n",
       "      <td>195.0</td>\n",
       "      <td>3250.0</td>\n",
       "      <td>Female</td>\n",
       "    </tr>\n",
       "    <tr>\n",
       "      <th>3</th>\n",
       "      <td>Adelie</td>\n",
       "      <td>Torgersen</td>\n",
       "      <td>NaN</td>\n",
       "      <td>NaN</td>\n",
       "      <td>NaN</td>\n",
       "      <td>NaN</td>\n",
       "      <td>NaN</td>\n",
       "    </tr>\n",
       "    <tr>\n",
       "      <th>4</th>\n",
       "      <td>Adelie</td>\n",
       "      <td>Torgersen</td>\n",
       "      <td>36.7</td>\n",
       "      <td>19.3</td>\n",
       "      <td>193.0</td>\n",
       "      <td>3450.0</td>\n",
       "      <td>Female</td>\n",
       "    </tr>\n",
       "  </tbody>\n",
       "</table>\n",
       "</div>"
      ],
      "text/plain": [
       "  species     island  bill_length_mm  bill_depth_mm  flipper_length_mm  \\\n",
       "0  Adelie  Torgersen            39.1           18.7              181.0   \n",
       "1  Adelie  Torgersen            39.5           17.4              186.0   \n",
       "2  Adelie  Torgersen            40.3           18.0              195.0   \n",
       "3  Adelie  Torgersen             NaN            NaN                NaN   \n",
       "4  Adelie  Torgersen            36.7           19.3              193.0   \n",
       "\n",
       "   body_mass_g     sex  \n",
       "0       3750.0    Male  \n",
       "1       3800.0  Female  \n",
       "2       3250.0  Female  \n",
       "3          NaN     NaN  \n",
       "4       3450.0  Female  "
      ]
     },
     "execution_count": 3,
     "metadata": {},
     "output_type": "execute_result"
    }
   ],
   "source": [
    "penguins.head()"
   ]
  },
  {
   "cell_type": "code",
   "execution_count": 4,
   "metadata": {},
   "outputs": [
    {
     "data": {
      "text/html": [
       "<div>\n",
       "<style scoped>\n",
       "    .dataframe tbody tr th:only-of-type {\n",
       "        vertical-align: middle;\n",
       "    }\n",
       "\n",
       "    .dataframe tbody tr th {\n",
       "        vertical-align: top;\n",
       "    }\n",
       "\n",
       "    .dataframe thead th {\n",
       "        text-align: right;\n",
       "    }\n",
       "</style>\n",
       "<table border=\"1\" class=\"dataframe\">\n",
       "  <thead>\n",
       "    <tr style=\"text-align: right;\">\n",
       "      <th></th>\n",
       "      <th>bill_length_mm</th>\n",
       "      <th>bill_depth_mm</th>\n",
       "      <th>flipper_length_mm</th>\n",
       "      <th>body_mass_g</th>\n",
       "    </tr>\n",
       "    <tr>\n",
       "      <th>sex</th>\n",
       "      <th></th>\n",
       "      <th></th>\n",
       "      <th></th>\n",
       "      <th></th>\n",
       "    </tr>\n",
       "  </thead>\n",
       "  <tbody>\n",
       "    <tr>\n",
       "      <th>Female</th>\n",
       "      <td>42.096970</td>\n",
       "      <td>16.425455</td>\n",
       "      <td>197.363636</td>\n",
       "      <td>3862.272727</td>\n",
       "    </tr>\n",
       "    <tr>\n",
       "      <th>Male</th>\n",
       "      <td>45.854762</td>\n",
       "      <td>17.891071</td>\n",
       "      <td>204.505952</td>\n",
       "      <td>4545.684524</td>\n",
       "    </tr>\n",
       "  </tbody>\n",
       "</table>\n",
       "</div>"
      ],
      "text/plain": [
       "        bill_length_mm  bill_depth_mm  flipper_length_mm  body_mass_g\n",
       "sex                                                                  \n",
       "Female       42.096970      16.425455         197.363636  3862.272727\n",
       "Male         45.854762      17.891071         204.505952  4545.684524"
      ]
     },
     "execution_count": 4,
     "metadata": {},
     "output_type": "execute_result"
    }
   ],
   "source": [
    "penguins.groupby('sex').mean()"
   ]
  },
  {
   "cell_type": "markdown",
   "metadata": {},
   "source": [
    "#### Bill_length_mm"
   ]
  },
  {
   "cell_type": "code",
   "execution_count": 5,
   "metadata": {},
   "outputs": [
    {
     "data": {
      "text/plain": [
       "<AxesSubplot:xlabel='sex', ylabel='bill_length_mm'>"
      ]
     },
     "execution_count": 5,
     "metadata": {},
     "output_type": "execute_result"
    },
    {
     "data": {
      "image/png": "[encoded data removed]",
      "text/plain": [
       "<Figure size 432x288 with 1 Axes>"
      ]
     },
     "metadata": {
      "needs_background": "light"
     },
     "output_type": "display_data"
    }
   ],
   "source": [
    "sns.barplot(y=\"bill_length_mm\", x=\"sex\", data=penguins)"
   ]
  },
  {
   "cell_type": "markdown",
   "metadata": {},
   "source": [
    "##### Conclusie\n",
    "Der is niet een enorm verschil tussen de twee geslachten er kan met wat zekerheid gezegd worden dat de bill length bij mannen hoger is."
   ]
  },
  {
   "cell_type": "markdown",
   "metadata": {},
   "source": [
    "<br>"
   ]
  },
  {
   "cell_type": "markdown",
   "metadata": {},
   "source": [
    "#### Bill_depth_mm"
   ]
  },
  {
   "cell_type": "code",
   "execution_count": 6,
   "metadata": {},
   "outputs": [
    {
     "data": {
      "text/plain": [
       "<AxesSubplot:xlabel='sex', ylabel='bill_depth_mm'>"
      ]
     },
     "execution_count": 6,
     "metadata": {},
     "output_type": "execute_result"
    },
    {
     "data": {
      "image/png": "[encoded data removed]",
      "text/plain": [
       "<Figure size 432x288 with 1 Axes>"
      ]
     },
     "metadata": {
      "needs_background": "light"
     },
     "output_type": "display_data"
    }
   ],
   "source": [
    "sns.barplot(y=\"bill_depth_mm\", x=\"sex\", data=penguins)"
   ]
  },
  {
   "cell_type": "markdown",
   "metadata": {},
   "source": [
    "##### Conclusie\n",
    "Der is niet een enorm verschil tussen de twee geslachten er kan met wat zekerheid gezegd worden dat de bill depth bij mannen hoger is."
   ]
  },
  {
   "cell_type": "markdown",
   "metadata": {},
   "source": [
    "<br>"
   ]
  },
  {
   "cell_type": "markdown",
   "metadata": {},
   "source": [
    "#### Flipper_length_mm"
   ]
  },
  {
   "cell_type": "code",
   "execution_count": 7,
   "metadata": {},
   "outputs": [
    {
     "data": {
      "text/plain": [
       "<AxesSubplot:xlabel='sex', ylabel='flipper_length_mm'>"
      ]
     },
     "execution_count": 7,
     "metadata": {},
     "output_type": "execute_result"
    },
    {
     "data": {
      "image/png": "[encoded data removed]",
      "text/plain": [
       "<Figure size 432x288 with 1 Axes>"
      ]
     },
     "metadata": {
      "needs_background": "light"
     },
     "output_type": "display_data"
    }
   ],
   "source": [
    "sns.barplot(y=\"flipper_length_mm\", x=\"sex\", data=penguins)"
   ]
  },
  {
   "cell_type": "markdown",
   "metadata": {},
   "source": [
    "##### Conclusie\n",
    "Hier kan je niet echt een enorm goede conclusie trekken omdat de confidence elkaar overlapt."
   ]
  },
  {
   "cell_type": "markdown",
   "metadata": {},
   "source": [
    "<br>"
   ]
  },
  {
   "cell_type": "markdown",
   "metadata": {},
   "source": [
    "#### Body_mass_g"
   ]
  },
  {
   "cell_type": "code",
   "execution_count": 9,
   "metadata": {},
   "outputs": [
    {
     "data": {
      "text/plain": [
       "<AxesSubplot:xlabel='sex', ylabel='body_mass_g'>"
      ]
     },
     "execution_count": 9,
     "metadata": {},
     "output_type": "execute_result"
    },
    {
     "data": {
      "image/png": "[encoded data removed]",
      "text/plain": [
       "<Figure size 432x288 with 1 Axes>"
      ]
     },
     "metadata": {
      "needs_background": "light"
     },
     "output_type": "display_data"
    }
   ],
   "source": [
    "sns.barplot(y=\"body_mass_g\", x=\"sex\", data=penguins)"
   ]
  },
  {
   "cell_type": "markdown",
   "metadata": {},
   "source": [
    "##### Conclusie\n",
    "Hier is een duidelijk verschil tussen de geslachten te zien. De mannen steken redelijk ver boven de vrouwen uit."
   ]
  },
  {
   "cell_type": "markdown",
   "metadata": {},
   "source": [
    "<hr>"
   ]
  },
  {
   "cell_type": "markdown",
   "metadata": {},
   "source": [
    "### Portfolio assignment 12\n",
    "30 min: Perform a bivariate analysis on at least 3 combinations of a numerical column with a categorical column in the dataset that you chose in portfolio assignment 4. Use <em>.groupby('columnname').mean()</em> to calculate the means. Is there a difference between categories? Then use seaborn barplots to check if there is a statistically significant difference. "
   ]
  },
  {
   "cell_type": "code",
   "execution_count": 10,
   "metadata": {},
   "outputs": [
    {
     "data": {
      "text/html": [
       "<div>\n",
       "<style scoped>\n",
       "    .dataframe tbody tr th:only-of-type {\n",
       "        vertical-align: middle;\n",
       "    }\n",
       "\n",
       "    .dataframe tbody tr th {\n",
       "        vertical-align: top;\n",
       "    }\n",
       "\n",
       "    .dataframe thead th {\n",
       "        text-align: right;\n",
       "    }\n",
       "</style>\n",
       "<table border=\"1\" class=\"dataframe\">\n",
       "  <thead>\n",
       "    <tr style=\"text-align: right;\">\n",
       "      <th></th>\n",
       "      <th>Unnamed: 0</th>\n",
       "      <th>Player</th>\n",
       "      <th>Team</th>\n",
       "      <th>Pos</th>\n",
       "      <th>GP</th>\n",
       "      <th>W%</th>\n",
       "      <th>K</th>\n",
       "      <th>D</th>\n",
       "      <th>A</th>\n",
       "      <th>KDA</th>\n",
       "      <th>...</th>\n",
       "      <th>CSD10</th>\n",
       "      <th>CSPM</th>\n",
       "      <th>CS%P15</th>\n",
       "      <th>DPM</th>\n",
       "      <th>DMG%</th>\n",
       "      <th>EGPM</th>\n",
       "      <th>Gold%</th>\n",
       "      <th>WPM</th>\n",
       "      <th>WCPM</th>\n",
       "      <th>Split</th>\n",
       "    </tr>\n",
       "  </thead>\n",
       "  <tbody>\n",
       "    <tr>\n",
       "      <th>0</th>\n",
       "      <td>0</td>\n",
       "      <td>Abbedagge</td>\n",
       "      <td>Schalke 04</td>\n",
       "      <td>Middle</td>\n",
       "      <td>19.0</td>\n",
       "      <td>47.0</td>\n",
       "      <td>41.0</td>\n",
       "      <td>43.0</td>\n",
       "      <td>79.0</td>\n",
       "      <td>2.8</td>\n",
       "      <td>...</td>\n",
       "      <td>-3.3</td>\n",
       "      <td>9.0</td>\n",
       "      <td>26.6</td>\n",
       "      <td>417.0</td>\n",
       "      <td>24.6</td>\n",
       "      <td>257.9</td>\n",
       "      <td>22.5</td>\n",
       "      <td>0.51</td>\n",
       "      <td>0.19</td>\n",
       "      <td>Spring Regular</td>\n",
       "    </tr>\n",
       "    <tr>\n",
       "      <th>1</th>\n",
       "      <td>1</td>\n",
       "      <td>Alphari</td>\n",
       "      <td>Origen</td>\n",
       "      <td>Top</td>\n",
       "      <td>18.0</td>\n",
       "      <td>67.0</td>\n",
       "      <td>29.0</td>\n",
       "      <td>30.0</td>\n",
       "      <td>73.0</td>\n",
       "      <td>3.4</td>\n",
       "      <td>...</td>\n",
       "      <td>1.7</td>\n",
       "      <td>8.0</td>\n",
       "      <td>22.4</td>\n",
       "      <td>354.0</td>\n",
       "      <td>21.8</td>\n",
       "      <td>243.5</td>\n",
       "      <td>20.9</td>\n",
       "      <td>0.54</td>\n",
       "      <td>0.15</td>\n",
       "      <td>Spring Regular</td>\n",
       "    </tr>\n",
       "    <tr>\n",
       "      <th>2</th>\n",
       "      <td>2</td>\n",
       "      <td>Attila</td>\n",
       "      <td>Vitality</td>\n",
       "      <td>ADC</td>\n",
       "      <td>18.0</td>\n",
       "      <td>56.0</td>\n",
       "      <td>48.0</td>\n",
       "      <td>30.0</td>\n",
       "      <td>77.0</td>\n",
       "      <td>4.2</td>\n",
       "      <td>...</td>\n",
       "      <td>-3.9</td>\n",
       "      <td>10.2</td>\n",
       "      <td>33.4</td>\n",
       "      <td>458.0</td>\n",
       "      <td>25.6</td>\n",
       "      <td>316.7</td>\n",
       "      <td>26.9</td>\n",
       "      <td>0.35</td>\n",
       "      <td>0.39</td>\n",
       "      <td>Spring Regular</td>\n",
       "    </tr>\n",
       "    <tr>\n",
       "      <th>3</th>\n",
       "      <td>3</td>\n",
       "      <td>Broxah</td>\n",
       "      <td>Fnatic</td>\n",
       "      <td>Jungle</td>\n",
       "      <td>18.0</td>\n",
       "      <td>61.0</td>\n",
       "      <td>49.0</td>\n",
       "      <td>27.0</td>\n",
       "      <td>93.0</td>\n",
       "      <td>5.3</td>\n",
       "      <td>...</td>\n",
       "      <td>-1.8</td>\n",
       "      <td>5.0</td>\n",
       "      <td>13.2</td>\n",
       "      <td>255.0</td>\n",
       "      <td>14.9</td>\n",
       "      <td>200.1</td>\n",
       "      <td>17.1</td>\n",
       "      <td>0.36</td>\n",
       "      <td>0.34</td>\n",
       "      <td>Spring Regular</td>\n",
       "    </tr>\n",
       "    <tr>\n",
       "      <th>4</th>\n",
       "      <td>4</td>\n",
       "      <td>Bwipo</td>\n",
       "      <td>Fnatic</td>\n",
       "      <td>Top</td>\n",
       "      <td>18.0</td>\n",
       "      <td>61.0</td>\n",
       "      <td>41.0</td>\n",
       "      <td>42.0</td>\n",
       "      <td>80.0</td>\n",
       "      <td>2.9</td>\n",
       "      <td>...</td>\n",
       "      <td>-10.0</td>\n",
       "      <td>7.6</td>\n",
       "      <td>23.6</td>\n",
       "      <td>444.0</td>\n",
       "      <td>25.5</td>\n",
       "      <td>239.7</td>\n",
       "      <td>20.4</td>\n",
       "      <td>0.48</td>\n",
       "      <td>0.16</td>\n",
       "      <td>Spring Regular</td>\n",
       "    </tr>\n",
       "  </tbody>\n",
       "</table>\n",
       "<p>5 rows × 25 columns</p>\n",
       "</div>"
      ],
      "text/plain": [
       "   Unnamed: 0     Player        Team     Pos    GP    W%     K     D     A  \\\n",
       "0           0  Abbedagge  Schalke 04  Middle  19.0  47.0  41.0  43.0  79.0   \n",
       "1           1    Alphari      Origen     Top  18.0  67.0  29.0  30.0  73.0   \n",
       "2           2     Attila    Vitality     ADC  18.0  56.0  48.0  30.0  77.0   \n",
       "3           3     Broxah      Fnatic  Jungle  18.0  61.0  49.0  27.0  93.0   \n",
       "4           4      Bwipo      Fnatic     Top  18.0  61.0  41.0  42.0  80.0   \n",
       "\n",
       "   KDA  ...  CSD10  CSPM  CS%P15    DPM  DMG%   EGPM  Gold%   WPM  WCPM  \\\n",
       "0  2.8  ...   -3.3   9.0    26.6  417.0  24.6  257.9   22.5  0.51  0.19   \n",
       "1  3.4  ...    1.7   8.0    22.4  354.0  21.8  243.5   20.9  0.54  0.15   \n",
       "2  4.2  ...   -3.9  10.2    33.4  458.0  25.6  316.7   26.9  0.35  0.39   \n",
       "3  5.3  ...   -1.8   5.0    13.2  255.0  14.9  200.1   17.1  0.36  0.34   \n",
       "4  2.9  ...  -10.0   7.6    23.6  444.0  25.5  239.7   20.4  0.48  0.16   \n",
       "\n",
       "            Split  \n",
       "0  Spring Regular  \n",
       "1  Spring Regular  \n",
       "2  Spring Regular  \n",
       "3  Spring Regular  \n",
       "4  Spring Regular  \n",
       "\n",
       "[5 rows x 25 columns]"
      ]
     },
     "execution_count": 10,
     "metadata": {},
     "output_type": "execute_result"
    }
   ],
   "source": [
    "lecDataset = pd.read_csv('Datasets/lec_playerdata.csv', sep=',')\n",
    "lecDataset.head()"
   ]
  },
  {
   "cell_type": "markdown",
   "metadata": {},
   "source": [
    "#### Team"
   ]
  },
  {
   "cell_type": "code",
   "execution_count": 12,
   "metadata": {
    "scrolled": false
   },
   "outputs": [
    {
     "data": {
      "text/html": [
       "<div>\n",
       "<style scoped>\n",
       "    .dataframe tbody tr th:only-of-type {\n",
       "        vertical-align: middle;\n",
       "    }\n",
       "\n",
       "    .dataframe tbody tr th {\n",
       "        vertical-align: top;\n",
       "    }\n",
       "\n",
       "    .dataframe thead th {\n",
       "        text-align: right;\n",
       "    }\n",
       "</style>\n",
       "<table border=\"1\" class=\"dataframe\">\n",
       "  <thead>\n",
       "    <tr style=\"text-align: right;\">\n",
       "      <th></th>\n",
       "      <th>Unnamed: 0</th>\n",
       "      <th>GP</th>\n",
       "      <th>W%</th>\n",
       "      <th>K</th>\n",
       "      <th>D</th>\n",
       "      <th>A</th>\n",
       "      <th>KDA</th>\n",
       "      <th>KP</th>\n",
       "      <th>DTH%</th>\n",
       "      <th>FB%</th>\n",
       "      <th>...</th>\n",
       "      <th>XPD10</th>\n",
       "      <th>CSD10</th>\n",
       "      <th>CSPM</th>\n",
       "      <th>CS%P15</th>\n",
       "      <th>DPM</th>\n",
       "      <th>DMG%</th>\n",
       "      <th>EGPM</th>\n",
       "      <th>Gold%</th>\n",
       "      <th>WPM</th>\n",
       "      <th>WCPM</th>\n",
       "    </tr>\n",
       "    <tr>\n",
       "      <th>Team</th>\n",
       "      <th></th>\n",
       "      <th></th>\n",
       "      <th></th>\n",
       "      <th></th>\n",
       "      <th></th>\n",
       "      <th></th>\n",
       "      <th></th>\n",
       "      <th></th>\n",
       "      <th></th>\n",
       "      <th></th>\n",
       "      <th></th>\n",
       "      <th></th>\n",
       "      <th></th>\n",
       "      <th></th>\n",
       "      <th></th>\n",
       "      <th></th>\n",
       "      <th></th>\n",
       "      <th></th>\n",
       "      <th></th>\n",
       "      <th></th>\n",
       "      <th></th>\n",
       "    </tr>\n",
       "  </thead>\n",
       "  <tbody>\n",
       "    <tr>\n",
       "      <th>Excel Esports</th>\n",
       "      <td>89.800000</td>\n",
       "      <td>9.000000</td>\n",
       "      <td>17.350000</td>\n",
       "      <td>18.050000</td>\n",
       "      <td>25.350000</td>\n",
       "      <td>39.400000</td>\n",
       "      <td>2.035000</td>\n",
       "      <td>61.085000</td>\n",
       "      <td>19.670000</td>\n",
       "      <td>10.200000</td>\n",
       "      <td>...</td>\n",
       "      <td>-196.950000</td>\n",
       "      <td>-6.555000</td>\n",
       "      <td>5.775000</td>\n",
       "      <td>19.680000</td>\n",
       "      <td>356.150000</td>\n",
       "      <td>19.950000</td>\n",
       "      <td>211.605000</td>\n",
       "      <td>19.825000</td>\n",
       "      <td>0.691500</td>\n",
       "      <td>0.224000</td>\n",
       "    </tr>\n",
       "    <tr>\n",
       "      <th>Fnatic</th>\n",
       "      <td>123.062500</td>\n",
       "      <td>9.843750</td>\n",
       "      <td>72.937500</td>\n",
       "      <td>29.625000</td>\n",
       "      <td>25.031250</td>\n",
       "      <td>63.750000</td>\n",
       "      <td>5.862500</td>\n",
       "      <td>61.800000</td>\n",
       "      <td>18.478125</td>\n",
       "      <td>23.718750</td>\n",
       "      <td>...</td>\n",
       "      <td>21.562500</td>\n",
       "      <td>-1.571875</td>\n",
       "      <td>6.546875</td>\n",
       "      <td>20.375000</td>\n",
       "      <td>396.031250</td>\n",
       "      <td>20.428125</td>\n",
       "      <td>260.709375</td>\n",
       "      <td>20.259375</td>\n",
       "      <td>0.630000</td>\n",
       "      <td>0.253750</td>\n",
       "    </tr>\n",
       "    <tr>\n",
       "      <th>G2 Esports</th>\n",
       "      <td>105.533333</td>\n",
       "      <td>8.666667</td>\n",
       "      <td>76.400000</td>\n",
       "      <td>32.266667</td>\n",
       "      <td>20.900000</td>\n",
       "      <td>64.633333</td>\n",
       "      <td>5.760000</td>\n",
       "      <td>60.276667</td>\n",
       "      <td>19.943333</td>\n",
       "      <td>28.066667</td>\n",
       "      <td>...</td>\n",
       "      <td>13.300000</td>\n",
       "      <td>0.993333</td>\n",
       "      <td>6.106667</td>\n",
       "      <td>19.266667</td>\n",
       "      <td>448.533333</td>\n",
       "      <td>19.136667</td>\n",
       "      <td>263.426667</td>\n",
       "      <td>19.560000</td>\n",
       "      <td>0.709000</td>\n",
       "      <td>0.274000</td>\n",
       "    </tr>\n",
       "    <tr>\n",
       "      <th>Misfits</th>\n",
       "      <td>93.000000</td>\n",
       "      <td>11.250000</td>\n",
       "      <td>34.375000</td>\n",
       "      <td>24.312500</td>\n",
       "      <td>32.250000</td>\n",
       "      <td>50.312500</td>\n",
       "      <td>2.393750</td>\n",
       "      <td>62.718750</td>\n",
       "      <td>20.025000</td>\n",
       "      <td>23.375000</td>\n",
       "      <td>...</td>\n",
       "      <td>-56.000000</td>\n",
       "      <td>0.568750</td>\n",
       "      <td>6.193750</td>\n",
       "      <td>19.006250</td>\n",
       "      <td>313.375000</td>\n",
       "      <td>19.037500</td>\n",
       "      <td>212.762500</td>\n",
       "      <td>19.243750</td>\n",
       "      <td>0.706875</td>\n",
       "      <td>0.256875</td>\n",
       "    </tr>\n",
       "    <tr>\n",
       "      <th>Origen</th>\n",
       "      <td>111.750000</td>\n",
       "      <td>12.750000</td>\n",
       "      <td>44.000000</td>\n",
       "      <td>28.650000</td>\n",
       "      <td>29.950000</td>\n",
       "      <td>61.750000</td>\n",
       "      <td>3.235000</td>\n",
       "      <td>64.515000</td>\n",
       "      <td>20.010000</td>\n",
       "      <td>22.000000</td>\n",
       "      <td>...</td>\n",
       "      <td>47.700000</td>\n",
       "      <td>1.230000</td>\n",
       "      <td>6.460000</td>\n",
       "      <td>20.000000</td>\n",
       "      <td>340.450000</td>\n",
       "      <td>19.995000</td>\n",
       "      <td>220.965000</td>\n",
       "      <td>20.000000</td>\n",
       "      <td>0.677000</td>\n",
       "      <td>0.282000</td>\n",
       "    </tr>\n",
       "    <tr>\n",
       "      <th>Rogue</th>\n",
       "      <td>113.631579</td>\n",
       "      <td>11.315789</td>\n",
       "      <td>35.368421</td>\n",
       "      <td>24.842105</td>\n",
       "      <td>30.052632</td>\n",
       "      <td>54.526316</td>\n",
       "      <td>3.100000</td>\n",
       "      <td>63.636842</td>\n",
       "      <td>19.700000</td>\n",
       "      <td>18.684211</td>\n",
       "      <td>...</td>\n",
       "      <td>-48.263158</td>\n",
       "      <td>-1.389474</td>\n",
       "      <td>6.289474</td>\n",
       "      <td>20.121053</td>\n",
       "      <td>327.473684</td>\n",
       "      <td>19.936842</td>\n",
       "      <td>211.278947</td>\n",
       "      <td>19.863158</td>\n",
       "      <td>0.679474</td>\n",
       "      <td>0.233158</td>\n",
       "    </tr>\n",
       "    <tr>\n",
       "      <th>SK Gaming</th>\n",
       "      <td>85.187500</td>\n",
       "      <td>13.125000</td>\n",
       "      <td>38.750000</td>\n",
       "      <td>30.062500</td>\n",
       "      <td>36.312500</td>\n",
       "      <td>70.500000</td>\n",
       "      <td>2.781250</td>\n",
       "      <td>66.562500</td>\n",
       "      <td>20.250000</td>\n",
       "      <td>21.187500</td>\n",
       "      <td>...</td>\n",
       "      <td>-40.312500</td>\n",
       "      <td>-0.681250</td>\n",
       "      <td>6.612500</td>\n",
       "      <td>20.325000</td>\n",
       "      <td>366.937500</td>\n",
       "      <td>20.312500</td>\n",
       "      <td>223.700000</td>\n",
       "      <td>20.231250</td>\n",
       "      <td>0.643750</td>\n",
       "      <td>0.287500</td>\n",
       "    </tr>\n",
       "    <tr>\n",
       "      <th>Schalke 04</th>\n",
       "      <td>140.700000</td>\n",
       "      <td>12.750000</td>\n",
       "      <td>40.750000</td>\n",
       "      <td>34.200000</td>\n",
       "      <td>29.400000</td>\n",
       "      <td>75.700000</td>\n",
       "      <td>3.790000</td>\n",
       "      <td>63.085000</td>\n",
       "      <td>19.990000</td>\n",
       "      <td>25.900000</td>\n",
       "      <td>...</td>\n",
       "      <td>-98.800000</td>\n",
       "      <td>-2.635000</td>\n",
       "      <td>6.380000</td>\n",
       "      <td>20.005000</td>\n",
       "      <td>351.900000</td>\n",
       "      <td>19.995000</td>\n",
       "      <td>223.800000</td>\n",
       "      <td>20.000000</td>\n",
       "      <td>0.683000</td>\n",
       "      <td>0.283000</td>\n",
       "    </tr>\n",
       "    <tr>\n",
       "      <th>Splyce</th>\n",
       "      <td>129.692308</td>\n",
       "      <td>11.153846</td>\n",
       "      <td>48.576923</td>\n",
       "      <td>30.423077</td>\n",
       "      <td>28.461538</td>\n",
       "      <td>68.807692</td>\n",
       "      <td>3.442308</td>\n",
       "      <td>63.507692</td>\n",
       "      <td>20.196154</td>\n",
       "      <td>29.076923</td>\n",
       "      <td>...</td>\n",
       "      <td>22.653846</td>\n",
       "      <td>1.250000</td>\n",
       "      <td>6.819231</td>\n",
       "      <td>20.315385</td>\n",
       "      <td>365.038462</td>\n",
       "      <td>20.026923</td>\n",
       "      <td>234.319231</td>\n",
       "      <td>20.100000</td>\n",
       "      <td>0.672308</td>\n",
       "      <td>0.286923</td>\n",
       "    </tr>\n",
       "    <tr>\n",
       "      <th>Vitality</th>\n",
       "      <td>89.954545</td>\n",
       "      <td>10.000000</td>\n",
       "      <td>34.636364</td>\n",
       "      <td>22.772727</td>\n",
       "      <td>29.454545</td>\n",
       "      <td>47.954545</td>\n",
       "      <td>2.527273</td>\n",
       "      <td>60.577273</td>\n",
       "      <td>20.081818</td>\n",
       "      <td>18.181818</td>\n",
       "      <td>...</td>\n",
       "      <td>28.090909</td>\n",
       "      <td>1.672727</td>\n",
       "      <td>6.609091</td>\n",
       "      <td>20.622727</td>\n",
       "      <td>365.954545</td>\n",
       "      <td>20.654545</td>\n",
       "      <td>226.704545</td>\n",
       "      <td>20.354545</td>\n",
       "      <td>0.664091</td>\n",
       "      <td>0.237273</td>\n",
       "    </tr>\n",
       "  </tbody>\n",
       "</table>\n",
       "<p>10 rows × 21 columns</p>\n",
       "</div>"
      ],
      "text/plain": [
       "               Unnamed: 0         GP         W%          K          D  \\\n",
       "Team                                                                    \n",
       "Excel Esports   89.800000   9.000000  17.350000  18.050000  25.350000   \n",
       "Fnatic         123.062500   9.843750  72.937500  29.625000  25.031250   \n",
       "G2 Esports     105.533333   8.666667  76.400000  32.266667  20.900000   \n",
       "Misfits         93.000000  11.250000  34.375000  24.312500  32.250000   \n",
       "Origen         111.750000  12.750000  44.000000  28.650000  29.950000   \n",
       "Rogue          113.631579  11.315789  35.368421  24.842105  30.052632   \n",
       "SK Gaming       85.187500  13.125000  38.750000  30.062500  36.312500   \n",
       "Schalke 04     140.700000  12.750000  40.750000  34.200000  29.400000   \n",
       "Splyce         129.692308  11.153846  48.576923  30.423077  28.461538   \n",
       "Vitality        89.954545  10.000000  34.636364  22.772727  29.454545   \n",
       "\n",
       "                       A       KDA         KP       DTH%        FB%  ...  \\\n",
       "Team                                                                 ...   \n",
       "Excel Esports  39.400000  2.035000  61.085000  19.670000  10.200000  ...   \n",
       "Fnatic         63.750000  5.862500  61.800000  18.478125  23.718750  ...   \n",
       "G2 Esports     64.633333  5.760000  60.276667  19.943333  28.066667  ...   \n",
       "Misfits        50.312500  2.393750  62.718750  20.025000  23.375000  ...   \n",
       "Origen         61.750000  3.235000  64.515000  20.010000  22.000000  ...   \n",
       "Rogue          54.526316  3.100000  63.636842  19.700000  18.684211  ...   \n",
       "SK Gaming      70.500000  2.781250  66.562500  20.250000  21.187500  ...   \n",
       "Schalke 04     75.700000  3.790000  63.085000  19.990000  25.900000  ...   \n",
       "Splyce         68.807692  3.442308  63.507692  20.196154  29.076923  ...   \n",
       "Vitality       47.954545  2.527273  60.577273  20.081818  18.181818  ...   \n",
       "\n",
       "                    XPD10     CSD10      CSPM     CS%P15         DPM  \\\n",
       "Team                                                                   \n",
       "Excel Esports -196.950000 -6.555000  5.775000  19.680000  356.150000   \n",
       "Fnatic          21.562500 -1.571875  6.546875  20.375000  396.031250   \n",
       "G2 Esports      13.300000  0.993333  6.106667  19.266667  448.533333   \n",
       "Misfits        -56.000000  0.568750  6.193750  19.006250  313.375000   \n",
       "Origen          47.700000  1.230000  6.460000  20.000000  340.450000   \n",
       "Rogue          -48.263158 -1.389474  6.289474  20.121053  327.473684   \n",
       "SK Gaming      -40.312500 -0.681250  6.612500  20.325000  366.937500   \n",
       "Schalke 04     -98.800000 -2.635000  6.380000  20.005000  351.900000   \n",
       "Splyce          22.653846  1.250000  6.819231  20.315385  365.038462   \n",
       "Vitality        28.090909  1.672727  6.609091  20.622727  365.954545   \n",
       "\n",
       "                    DMG%        EGPM      Gold%       WPM      WCPM  \n",
       "Team                                                                 \n",
       "Excel Esports  19.950000  211.605000  19.825000  0.691500  0.224000  \n",
       "Fnatic         20.428125  260.709375  20.259375  0.630000  0.253750  \n",
       "G2 Esports     19.136667  263.426667  19.560000  0.709000  0.274000  \n",
       "Misfits        19.037500  212.762500  19.243750  0.706875  0.256875  \n",
       "Origen         19.995000  220.965000  20.000000  0.677000  0.282000  \n",
       "Rogue          19.936842  211.278947  19.863158  0.679474  0.233158  \n",
       "SK Gaming      20.312500  223.700000  20.231250  0.643750  0.287500  \n",
       "Schalke 04     19.995000  223.800000  20.000000  0.683000  0.283000  \n",
       "Splyce         20.026923  234.319231  20.100000  0.672308  0.286923  \n",
       "Vitality       20.654545  226.704545  20.354545  0.664091  0.237273  \n",
       "\n",
       "[10 rows x 21 columns]"
      ]
     },
     "execution_count": 12,
     "metadata": {},
     "output_type": "execute_result"
    }
   ],
   "source": [
    "lecDataset.groupby('Team').mean()"
   ]
  },
  {
   "cell_type": "markdown",
   "metadata": {},
   "source": [
    "##### Teams with W% (Win percentage)"
   ]
  },
  {
   "cell_type": "code",
   "execution_count": 24,
   "metadata": {},
   "outputs": [
    {
     "data": {
      "text/plain": [
       "[Text(0, 0, 'Schalke 04'),\n",
       " Text(1, 0, 'Origen'),\n",
       " Text(2, 0, 'Vitality'),\n",
       " Text(3, 0, 'Fnatic'),\n",
       " Text(4, 0, 'Excel Esports'),\n",
       " Text(5, 0, 'G2 Esports'),\n",
       " Text(6, 0, 'SK Gaming'),\n",
       " Text(7, 0, 'Misfits'),\n",
       " Text(8, 0, 'Rogue'),\n",
       " Text(9, 0, 'Splyce')]"
      ]
     },
     "execution_count": 24,
     "metadata": {},
     "output_type": "execute_result"
    },
    {
     "data": {
      "image/png": "[encoded data removed]",
      "text/plain": [
       "<Figure size 432x288 with 1 Axes>"
      ]
     },
     "metadata": {
      "needs_background": "light"
     },
     "output_type": "display_data"
    }
   ],
   "source": [
    "g = sns.barplot(y=\"W%\", x=\"Team\", data=lecDataset)\n",
    "g.set_xticklabels(g.get_xticklabels(), rotation=90)"
   ]
  },
  {
   "cell_type": "markdown",
   "metadata": {},
   "source": [
    "<br>"
   ]
  },
  {
   "cell_type": "markdown",
   "metadata": {},
   "source": [
    "##### Teams with KDA (Kill + Deaths + Assists)"
   ]
  },
  {
   "cell_type": "code",
   "execution_count": 25,
   "metadata": {},
   "outputs": [
    {
     "data": {
      "text/plain": [
       "[Text(0, 0, 'Schalke 04'),\n",
       " Text(1, 0, 'Origen'),\n",
       " Text(2, 0, 'Vitality'),\n",
       " Text(3, 0, 'Fnatic'),\n",
       " Text(4, 0, 'Excel Esports'),\n",
       " Text(5, 0, 'G2 Esports'),\n",
       " Text(6, 0, 'SK Gaming'),\n",
       " Text(7, 0, 'Misfits'),\n",
       " Text(8, 0, 'Rogue'),\n",
       " Text(9, 0, 'Splyce')]"
      ]
     },
     "execution_count": 25,
     "metadata": {},
     "output_type": "execute_result"
    },
    {
     "data": {
      "image/png": "[encoded data removed]",
      "text/plain": [
       "<Figure size 432x288 with 1 Axes>"
      ]
     },
     "metadata": {
      "needs_background": "light"
     },
     "output_type": "display_data"
    }
   ],
   "source": [
    "g = sns.barplot(y=\"KDA\", x=\"Team\", data=lecDataset)\n",
    "g.set_xticklabels(g.get_xticklabels(), rotation=90)"
   ]
  },
  {
   "cell_type": "markdown",
   "metadata": {},
   "source": [
    "<br>"
   ]
  },
  {
   "cell_type": "markdown",
   "metadata": {},
   "source": [
    "##### Pos (Position) with KDA (Kill + Deaths + Assists) "
   ]
  },
  {
   "cell_type": "code",
   "execution_count": 28,
   "metadata": {},
   "outputs": [
    {
     "data": {
      "text/plain": [
       "[Text(0, 0, 'Middle'),\n",
       " Text(1, 0, 'Top'),\n",
       " Text(2, 0, 'ADC'),\n",
       " Text(3, 0, 'Jungle'),\n",
       " Text(4, 0, 'Support')]"
      ]
     },
     "execution_count": 28,
     "metadata": {},
     "output_type": "execute_result"
    },
    {
     "data": {
      "image/png": "[encoded data removed]",
      "text/plain": [
       "<Figure size 432x288 with 1 Axes>"
      ]
     },
     "metadata": {
      "needs_background": "light"
     },
     "output_type": "display_data"
    }
   ],
   "source": [
    "g = sns.barplot(y=\"KDA\", x=\"Pos\", data=lecDataset)\n",
    "g.set_xticklabels(g.get_xticklabels(), rotation=90)"
   ]
  },
  {
   "cell_type": "code",
   "execution_count": null,
   "metadata": {},
   "outputs": [],
   "source": []
  }
 ],
 "metadata": {
  "kernelspec": {
   "display_name": "Python 3",
   "language": "python",
   "name": "python3"
  },
  "language_info": {
   "codemirror_mode": {
    "name": "ipython",
    "version": 3
   },
   "file_extension": ".py",
   "mimetype": "text/x-python",
   "name": "python",
   "nbconvert_exporter": "python",
   "pygments_lexer": "ipython3",
   "version": "3.8.5"
  }
 },
 "nbformat": 4,
 "nbformat_minor": 4
}
