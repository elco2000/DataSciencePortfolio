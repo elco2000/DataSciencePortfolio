{
 "cells": [
  {
   "cell_type": "code",
   "execution_count": 2,
   "metadata": {},
   "outputs": [],
   "source": [
    "import pandas as pd\n",
    "import seaborn as sns\n",
    "from sklearn.tree import DecisionTreeRegressor\n",
    "from sklearn.model_selection import train_test_split\n",
    "from sklearn import tree\n",
    "import graphviz"
   ]
  },
  {
   "cell_type": "markdown",
   "metadata": {},
   "source": [
    "## Portfolio assignment 18\n",
    "30 min: Train a decision tree to predict one of the numerical columns of your own dataset.\n",
    "- Split your dataset into a train (70%) and test (30%) set.\n",
    "- Use the train set to fit a DecisionTreeRegressor. You are free to to choose which columns you want to use as feature variables and you are also free to choose the max_depth of the tree. \n",
    "- Use your decision tree model to make predictions for both the train and test set.\n",
    "- Calculate the accuracy for both the train set predictions and test set predictions.\n",
    "- Is the accurracy different? Did you expect this difference?\n",
    "- Use the plot_tree function above to create a plot of the decision tree. Take a few minutes to analyse the decision tree. Do you understand the tree?"
   ]
  },
  {
   "cell_type": "code",
   "execution_count": 7,
   "metadata": {
    "scrolled": true
   },
   "outputs": [
    {
     "data": {
      "text/html": [
       "<div>\n",
       "<style scoped>\n",
       "    .dataframe tbody tr th:only-of-type {\n",
       "        vertical-align: middle;\n",
       "    }\n",
       "\n",
       "    .dataframe tbody tr th {\n",
       "        vertical-align: top;\n",
       "    }\n",
       "\n",
       "    .dataframe thead th {\n",
       "        text-align: right;\n",
       "    }\n",
       "</style>\n",
       "<table border=\"1\" class=\"dataframe\">\n",
       "  <thead>\n",
       "    <tr style=\"text-align: right;\">\n",
       "      <th></th>\n",
       "      <th>Unnamed: 0</th>\n",
       "      <th>Player</th>\n",
       "      <th>Team</th>\n",
       "      <th>Pos</th>\n",
       "      <th>GP</th>\n",
       "      <th>W%</th>\n",
       "      <th>K</th>\n",
       "      <th>D</th>\n",
       "      <th>A</th>\n",
       "      <th>KDA</th>\n",
       "      <th>...</th>\n",
       "      <th>CSD10</th>\n",
       "      <th>CSPM</th>\n",
       "      <th>CS%P15</th>\n",
       "      <th>DPM</th>\n",
       "      <th>DMG%</th>\n",
       "      <th>EGPM</th>\n",
       "      <th>Gold%</th>\n",
       "      <th>WPM</th>\n",
       "      <th>WCPM</th>\n",
       "      <th>Split</th>\n",
       "    </tr>\n",
       "  </thead>\n",
       "  <tbody>\n",
       "    <tr>\n",
       "      <th>0</th>\n",
       "      <td>0</td>\n",
       "      <td>Abbedagge</td>\n",
       "      <td>Schalke 04</td>\n",
       "      <td>Middle</td>\n",
       "      <td>19.0</td>\n",
       "      <td>47.0</td>\n",
       "      <td>41.0</td>\n",
       "      <td>43.0</td>\n",
       "      <td>79.0</td>\n",
       "      <td>2.8</td>\n",
       "      <td>...</td>\n",
       "      <td>-3.3</td>\n",
       "      <td>9.0</td>\n",
       "      <td>26.6</td>\n",
       "      <td>417.0</td>\n",
       "      <td>24.6</td>\n",
       "      <td>257.9</td>\n",
       "      <td>22.5</td>\n",
       "      <td>0.51</td>\n",
       "      <td>0.19</td>\n",
       "      <td>Spring Regular</td>\n",
       "    </tr>\n",
       "    <tr>\n",
       "      <th>1</th>\n",
       "      <td>1</td>\n",
       "      <td>Alphari</td>\n",
       "      <td>Origen</td>\n",
       "      <td>Top</td>\n",
       "      <td>18.0</td>\n",
       "      <td>67.0</td>\n",
       "      <td>29.0</td>\n",
       "      <td>30.0</td>\n",
       "      <td>73.0</td>\n",
       "      <td>3.4</td>\n",
       "      <td>...</td>\n",
       "      <td>1.7</td>\n",
       "      <td>8.0</td>\n",
       "      <td>22.4</td>\n",
       "      <td>354.0</td>\n",
       "      <td>21.8</td>\n",
       "      <td>243.5</td>\n",
       "      <td>20.9</td>\n",
       "      <td>0.54</td>\n",
       "      <td>0.15</td>\n",
       "      <td>Spring Regular</td>\n",
       "    </tr>\n",
       "    <tr>\n",
       "      <th>2</th>\n",
       "      <td>2</td>\n",
       "      <td>Attila</td>\n",
       "      <td>Vitality</td>\n",
       "      <td>ADC</td>\n",
       "      <td>18.0</td>\n",
       "      <td>56.0</td>\n",
       "      <td>48.0</td>\n",
       "      <td>30.0</td>\n",
       "      <td>77.0</td>\n",
       "      <td>4.2</td>\n",
       "      <td>...</td>\n",
       "      <td>-3.9</td>\n",
       "      <td>10.2</td>\n",
       "      <td>33.4</td>\n",
       "      <td>458.0</td>\n",
       "      <td>25.6</td>\n",
       "      <td>316.7</td>\n",
       "      <td>26.9</td>\n",
       "      <td>0.35</td>\n",
       "      <td>0.39</td>\n",
       "      <td>Spring Regular</td>\n",
       "    </tr>\n",
       "    <tr>\n",
       "      <th>3</th>\n",
       "      <td>3</td>\n",
       "      <td>Broxah</td>\n",
       "      <td>Fnatic</td>\n",
       "      <td>Jungle</td>\n",
       "      <td>18.0</td>\n",
       "      <td>61.0</td>\n",
       "      <td>49.0</td>\n",
       "      <td>27.0</td>\n",
       "      <td>93.0</td>\n",
       "      <td>5.3</td>\n",
       "      <td>...</td>\n",
       "      <td>-1.8</td>\n",
       "      <td>5.0</td>\n",
       "      <td>13.2</td>\n",
       "      <td>255.0</td>\n",
       "      <td>14.9</td>\n",
       "      <td>200.1</td>\n",
       "      <td>17.1</td>\n",
       "      <td>0.36</td>\n",
       "      <td>0.34</td>\n",
       "      <td>Spring Regular</td>\n",
       "    </tr>\n",
       "    <tr>\n",
       "      <th>4</th>\n",
       "      <td>4</td>\n",
       "      <td>Bwipo</td>\n",
       "      <td>Fnatic</td>\n",
       "      <td>Top</td>\n",
       "      <td>18.0</td>\n",
       "      <td>61.0</td>\n",
       "      <td>41.0</td>\n",
       "      <td>42.0</td>\n",
       "      <td>80.0</td>\n",
       "      <td>2.9</td>\n",
       "      <td>...</td>\n",
       "      <td>-10.0</td>\n",
       "      <td>7.6</td>\n",
       "      <td>23.6</td>\n",
       "      <td>444.0</td>\n",
       "      <td>25.5</td>\n",
       "      <td>239.7</td>\n",
       "      <td>20.4</td>\n",
       "      <td>0.48</td>\n",
       "      <td>0.16</td>\n",
       "      <td>Spring Regular</td>\n",
       "    </tr>\n",
       "  </tbody>\n",
       "</table>\n",
       "<p>5 rows × 25 columns</p>\n",
       "</div>"
      ],
      "text/plain": [
       "   Unnamed: 0     Player        Team     Pos    GP    W%     K     D     A  \\\n",
       "0           0  Abbedagge  Schalke 04  Middle  19.0  47.0  41.0  43.0  79.0   \n",
       "1           1    Alphari      Origen     Top  18.0  67.0  29.0  30.0  73.0   \n",
       "2           2     Attila    Vitality     ADC  18.0  56.0  48.0  30.0  77.0   \n",
       "3           3     Broxah      Fnatic  Jungle  18.0  61.0  49.0  27.0  93.0   \n",
       "4           4      Bwipo      Fnatic     Top  18.0  61.0  41.0  42.0  80.0   \n",
       "\n",
       "   KDA  ...  CSD10  CSPM  CS%P15    DPM  DMG%   EGPM  Gold%   WPM  WCPM  \\\n",
       "0  2.8  ...   -3.3   9.0    26.6  417.0  24.6  257.9   22.5  0.51  0.19   \n",
       "1  3.4  ...    1.7   8.0    22.4  354.0  21.8  243.5   20.9  0.54  0.15   \n",
       "2  4.2  ...   -3.9  10.2    33.4  458.0  25.6  316.7   26.9  0.35  0.39   \n",
       "3  5.3  ...   -1.8   5.0    13.2  255.0  14.9  200.1   17.1  0.36  0.34   \n",
       "4  2.9  ...  -10.0   7.6    23.6  444.0  25.5  239.7   20.4  0.48  0.16   \n",
       "\n",
       "            Split  \n",
       "0  Spring Regular  \n",
       "1  Spring Regular  \n",
       "2  Spring Regular  \n",
       "3  Spring Regular  \n",
       "4  Spring Regular  \n",
       "\n",
       "[5 rows x 25 columns]"
      ]
     },
     "execution_count": 7,
     "metadata": {},
     "output_type": "execute_result"
    }
   ],
   "source": [
    "lecDataset = pd.read_csv('Datasets/lec_playerdata.csv', sep=',')\n",
    "lecDataset.head()"
   ]
  },
  {
   "cell_type": "markdown",
   "metadata": {},
   "source": [
    "##### Test/train split"
   ]
  },
  {
   "cell_type": "code",
   "execution_count": 8,
   "metadata": {},
   "outputs": [
    {
     "name": "stdout",
     "output_type": "stream",
     "text": [
      "(154, 25) (67, 25)\n"
     ]
    }
   ],
   "source": [
    "lecDataset_train, lecDataset_test = train_test_split(lecDataset, test_size=0.3, stratify=lecDataset['Team'], random_state=42)\n",
    "print(lecDataset_train.shape, lecDataset_test.shape)"
   ]
  },
  {
   "cell_type": "markdown",
   "metadata": {},
   "source": [
    "##### Evaluating"
   ]
  },
  {
   "cell_type": "code",
   "execution_count": 52,
   "metadata": {},
   "outputs": [
    {
     "data": {
      "text/plain": [
       "DecisionTreeRegressor(max_depth=2)"
      ]
     },
     "execution_count": 52,
     "metadata": {},
     "output_type": "execute_result"
    }
   ],
   "source": [
    "features= ['CS%P15']\n",
    "dt_regression = DecisionTreeRegressor(max_depth = 2) # Increase max_depth to see effect in the plot\n",
    "dt_regression.fit(lecDataset_train[features],lecDataset_train['CSPM'])"
   ]
  },
  {
   "cell_type": "code",
   "execution_count": 53,
   "metadata": {},
   "outputs": [],
   "source": [
    "predictions =dt_regression.predict(lecDataset[features])"
   ]
  },
  {
   "cell_type": "code",
   "execution_count": 54,
   "metadata": {},
   "outputs": [],
   "source": [
    "def calculate_rmse(predictions, actuals):\n",
    "    if(len(predictions) != len(actuals)):\n",
    "        raise Exception(\"The amount of predictions did not equal the amount of actuals\")\n",
    "    \n",
    "    diffSquared = 0\n",
    "    \n",
    "    for prediction_i, actual_i in zip(predictions, actuals):\n",
    "        diffSquared += (prediction_i - actual_i)**2\n",
    "        \n",
    "    return (diffSquared/len(actuals))**(1/2)"
   ]
  },
  {
   "cell_type": "code",
   "execution_count": 55,
   "metadata": {},
   "outputs": [
    {
     "name": "stdout",
     "output_type": "stream",
     "text": [
      "RMSE on training set 0.6585214096410548\n",
      "RMSE on test set 0.5357453568438695\n"
     ]
    }
   ],
   "source": [
    "predictionsOnTrainset = dt_regression.predict(lecDataset_train[features])\n",
    "predictionsOnTestset = dt_regression.predict(lecDataset_test[features])\n",
    "\n",
    "rmseTrain = calculate_rmse(predictionsOnTrainset, lecDataset_train.CSPM)\n",
    "rmseTest = calculate_rmse(predictionsOnTestset, lecDataset_test.CSPM)\n",
    "\n",
    "print(\"RMSE on training set \" + str(rmseTrain))\n",
    "print(\"RMSE on test set \" + str(rmseTest))"
   ]
  },
  {
   "cell_type": "markdown",
   "metadata": {},
   "source": [
    "##### Tree"
   ]
  },
  {
   "cell_type": "code",
   "execution_count": 56,
   "metadata": {},
   "outputs": [],
   "source": [
    "from sklearn import tree\n",
    "import graphviz\n",
    "\n",
    "def plot_tree_regression(model, features):\n",
    "    # Generate plot data\n",
    "    dot_data = tree.export_graphviz(model, out_file=None, \n",
    "                          feature_names=features,  \n",
    "                          filled=True, rounded=True,  \n",
    "                          special_characters=True)  \n",
    "\n",
    "    # Turn into graph using graphviz\n",
    "    graph = graphviz.Source(dot_data)  \n",
    "\n",
    "    # Write out a pdf\n",
    "    graph.render(\"decision_tree\")\n",
    "\n",
    "    # Display in the notebook\n",
    "    return graph "
   ]
  },
  {
   "cell_type": "code",
   "execution_count": 57,
   "metadata": {},
   "outputs": [
    {
     "data": {
      "image/svg+xml": [
       "<?xml version=\"1.0\" encoding=\"UTF-8\" standalone=\"no\"?>\r\n",
       "<!DOCTYPE svg PUBLIC \"-//W3C//DTD SVG 1.1//EN\"\r\n",
       " \"http://www.w3.org/Graphics/SVG/1.1/DTD/svg11.dtd\">\r\n",
       "<!-- Generated by graphviz version 2.38.0 (20140413.2041)\r\n",
       " -->\r\n",
       "<!-- Title: Tree Pages: 1 -->\r\n",
       "<svg width=\"482pt\" height=\"269pt\"\r\n",
       " viewBox=\"0.00 0.00 482.00 269.00\" xmlns=\"http://www.w3.org/2000/svg\" xmlns:xlink=\"http://www.w3.org/1999/xlink\">\r\n",
       "<g id=\"graph0\" class=\"graph\" transform=\"scale(1 1) rotate(0) translate(4 265)\">\r\n",
       "<title>Tree</title>\r\n",
       "<polygon fill=\"white\" stroke=\"none\" points=\"-4,4 -4,-265 478,-265 478,4 -4,4\"/>\r\n",
       "<!-- 0 -->\r\n",
       "<g id=\"node1\" class=\"node\"><title>0</title>\r\n",
       "<path fill=\"#eeae7f\" stroke=\"black\" d=\"M288.5,-261C288.5,-261 184.5,-261 184.5,-261 178.5,-261 172.5,-255 172.5,-249 172.5,-249 172.5,-205 172.5,-205 172.5,-199 178.5,-193 184.5,-193 184.5,-193 288.5,-193 288.5,-193 294.5,-193 300.5,-199 300.5,-205 300.5,-205 300.5,-249 300.5,-249 300.5,-255 294.5,-261 288.5,-261\"/>\r\n",
       "<text text-anchor=\"start\" x=\"180.5\" y=\"-245.8\" font-family=\"Helvetica,sans-Serif\" font-size=\"14.00\">CS%P15 ≤ 20.85</text>\r\n",
       "<text text-anchor=\"start\" x=\"192\" y=\"-230.8\" font-family=\"Helvetica,sans-Serif\" font-size=\"14.00\">mse = 10.025</text>\r\n",
       "<text text-anchor=\"start\" x=\"189\" y=\"-215.8\" font-family=\"Helvetica,sans-Serif\" font-size=\"14.00\">samples = 154</text>\r\n",
       "<text text-anchor=\"start\" x=\"197.5\" y=\"-200.8\" font-family=\"Helvetica,sans-Serif\" font-size=\"14.00\">value = 6.47</text>\r\n",
       "</g>\r\n",
       "<!-- 1 -->\r\n",
       "<g id=\"node2\" class=\"node\"><title>1</title>\r\n",
       "<path fill=\"#fae8db\" stroke=\"black\" d=\"M216,-157C216,-157 121,-157 121,-157 115,-157 109,-151 109,-145 109,-145 109,-101 109,-101 109,-95 115,-89 121,-89 121,-89 216,-89 216,-89 222,-89 228,-95 228,-101 228,-101 228,-145 228,-145 228,-151 222,-157 216,-157\"/>\r\n",
       "<text text-anchor=\"start\" x=\"117\" y=\"-141.8\" font-family=\"Helvetica,sans-Serif\" font-size=\"14.00\">CS%P15 ≤ 8.75</text>\r\n",
       "<text text-anchor=\"start\" x=\"128\" y=\"-126.8\" font-family=\"Helvetica,sans-Serif\" font-size=\"14.00\">mse = 3.105</text>\r\n",
       "<text text-anchor=\"start\" x=\"125\" y=\"-111.8\" font-family=\"Helvetica,sans-Serif\" font-size=\"14.00\">samples = 59</text>\r\n",
       "<text text-anchor=\"start\" x=\"125.5\" y=\"-96.8\" font-family=\"Helvetica,sans-Serif\" font-size=\"14.00\">value = 2.846</text>\r\n",
       "</g>\r\n",
       "<!-- 0&#45;&gt;1 -->\r\n",
       "<g id=\"edge1\" class=\"edge\"><title>0&#45;&gt;1</title>\r\n",
       "<path fill=\"none\" stroke=\"black\" d=\"M214.422,-192.884C208.662,-184.243 202.379,-174.819 196.362,-165.793\"/>\r\n",
       "<polygon fill=\"black\" stroke=\"black\" points=\"199.159,-163.678 190.7,-157.299 193.334,-167.561 199.159,-163.678\"/>\r\n",
       "<text text-anchor=\"middle\" x=\"185.797\" y=\"-178.114\" font-family=\"Helvetica,sans-Serif\" font-size=\"14.00\">True</text>\r\n",
       "</g>\r\n",
       "<!-- 4 -->\r\n",
       "<g id=\"node5\" class=\"node\"><title>4</title>\r\n",
       "<path fill=\"#e78a46\" stroke=\"black\" d=\"M353,-157C353,-157 258,-157 258,-157 252,-157 246,-151 246,-145 246,-145 246,-101 246,-101 246,-95 252,-89 258,-89 258,-89 353,-89 353,-89 359,-89 365,-95 365,-101 365,-101 365,-145 365,-145 365,-151 359,-157 353,-157\"/>\r\n",
       "<text text-anchor=\"start\" x=\"254\" y=\"-141.8\" font-family=\"Helvetica,sans-Serif\" font-size=\"14.00\">CS%P15 ≤ 25.7</text>\r\n",
       "<text text-anchor=\"start\" x=\"265\" y=\"-126.8\" font-family=\"Helvetica,sans-Serif\" font-size=\"14.00\">mse = 1.097</text>\r\n",
       "<text text-anchor=\"start\" x=\"262\" y=\"-111.8\" font-family=\"Helvetica,sans-Serif\" font-size=\"14.00\">samples = 95</text>\r\n",
       "<text text-anchor=\"start\" x=\"262.5\" y=\"-96.8\" font-family=\"Helvetica,sans-Serif\" font-size=\"14.00\">value = 8.721</text>\r\n",
       "</g>\r\n",
       "<!-- 0&#45;&gt;4 -->\r\n",
       "<g id=\"edge4\" class=\"edge\"><title>0&#45;&gt;4</title>\r\n",
       "<path fill=\"none\" stroke=\"black\" d=\"M258.902,-192.884C264.747,-184.243 271.122,-174.819 277.228,-165.793\"/>\r\n",
       "<polygon fill=\"black\" stroke=\"black\" points=\"280.27,-167.543 282.974,-157.299 274.472,-163.621 280.27,-167.543\"/>\r\n",
       "<text text-anchor=\"middle\" x=\"287.711\" y=\"-178.146\" font-family=\"Helvetica,sans-Serif\" font-size=\"14.00\">False</text>\r\n",
       "</g>\r\n",
       "<!-- 2 -->\r\n",
       "<g id=\"node3\" class=\"node\"><title>2</title>\r\n",
       "<path fill=\"#ffffff\" stroke=\"black\" d=\"M91,-53C91,-53 12,-53 12,-53 6,-53 0,-47 0,-41 0,-41 0,-12 0,-12 0,-6 6,-0 12,-0 12,-0 91,-0 91,-0 97,-0 103,-6 103,-12 103,-12 103,-41 103,-41 103,-47 97,-53 91,-53\"/>\r\n",
       "<text text-anchor=\"start\" x=\"11\" y=\"-37.8\" font-family=\"Helvetica,sans-Serif\" font-size=\"14.00\">mse = 0.233</text>\r\n",
       "<text text-anchor=\"start\" x=\"8\" y=\"-22.8\" font-family=\"Helvetica,sans-Serif\" font-size=\"14.00\">samples = 35</text>\r\n",
       "<text text-anchor=\"start\" x=\"8.5\" y=\"-7.8\" font-family=\"Helvetica,sans-Serif\" font-size=\"14.00\">value = 1.437</text>\r\n",
       "</g>\r\n",
       "<!-- 1&#45;&gt;2 -->\r\n",
       "<g id=\"edge2\" class=\"edge\"><title>1&#45;&gt;2</title>\r\n",
       "<path fill=\"none\" stroke=\"black\" d=\"M127.579,-88.9485C115.8,-79.4346 102.973,-69.074 91.2646,-59.6175\"/>\r\n",
       "<polygon fill=\"black\" stroke=\"black\" points=\"93.3431,-56.7973 83.3645,-53.2367 88.9447,-62.2429 93.3431,-56.7973\"/>\r\n",
       "</g>\r\n",
       "<!-- 3 -->\r\n",
       "<g id=\"node4\" class=\"node\"><title>3</title>\r\n",
       "<path fill=\"#f3c7a7\" stroke=\"black\" d=\"M212,-53C212,-53 133,-53 133,-53 127,-53 121,-47 121,-41 121,-41 121,-12 121,-12 121,-6 127,-0 133,-0 133,-0 212,-0 212,-0 218,-0 224,-6 224,-12 224,-12 224,-41 224,-41 224,-47 218,-53 212,-53\"/>\r\n",
       "<text text-anchor=\"start\" x=\"136\" y=\"-37.8\" font-family=\"Helvetica,sans-Serif\" font-size=\"14.00\">mse = 0.18</text>\r\n",
       "<text text-anchor=\"start\" x=\"129\" y=\"-22.8\" font-family=\"Helvetica,sans-Serif\" font-size=\"14.00\">samples = 24</text>\r\n",
       "<text text-anchor=\"start\" x=\"137.5\" y=\"-7.8\" font-family=\"Helvetica,sans-Serif\" font-size=\"14.00\">value = 4.9</text>\r\n",
       "</g>\r\n",
       "<!-- 1&#45;&gt;3 -->\r\n",
       "<g id=\"edge3\" class=\"edge\"><title>1&#45;&gt;3</title>\r\n",
       "<path fill=\"none\" stroke=\"black\" d=\"M169.899,-88.9485C170.248,-80.7153 170.623,-71.848 170.977,-63.4814\"/>\r\n",
       "<polygon fill=\"black\" stroke=\"black\" points=\"174.484,-63.3758 171.411,-53.2367 167.491,-63.0797 174.484,-63.3758\"/>\r\n",
       "</g>\r\n",
       "<!-- 5 -->\r\n",
       "<g id=\"node6\" class=\"node\"><title>5</title>\r\n",
       "<path fill=\"#ea9a60\" stroke=\"black\" d=\"M341,-53C341,-53 262,-53 262,-53 256,-53 250,-47 250,-41 250,-41 250,-12 250,-12 250,-6 256,-0 262,-0 262,-0 341,-0 341,-0 347,-0 353,-6 353,-12 353,-12 353,-41 353,-41 353,-47 347,-53 341,-53\"/>\r\n",
       "<text text-anchor=\"start\" x=\"265\" y=\"-37.8\" font-family=\"Helvetica,sans-Serif\" font-size=\"14.00\">mse = 0.58</text>\r\n",
       "<text text-anchor=\"start\" x=\"258\" y=\"-22.8\" font-family=\"Helvetica,sans-Serif\" font-size=\"14.00\">samples = 33</text>\r\n",
       "<text text-anchor=\"start\" x=\"258.5\" y=\"-7.8\" font-family=\"Helvetica,sans-Serif\" font-size=\"14.00\">value = 7.727</text>\r\n",
       "</g>\r\n",
       "<!-- 4&#45;&gt;5 -->\r\n",
       "<g id=\"edge5\" class=\"edge\"><title>4&#45;&gt;5</title>\r\n",
       "<path fill=\"none\" stroke=\"black\" d=\"M304.101,-88.9485C303.752,-80.7153 303.377,-71.848 303.023,-63.4814\"/>\r\n",
       "<polygon fill=\"black\" stroke=\"black\" points=\"306.509,-63.0797 302.589,-53.2367 299.516,-63.3758 306.509,-63.0797\"/>\r\n",
       "</g>\r\n",
       "<!-- 6 -->\r\n",
       "<g id=\"node7\" class=\"node\"><title>6</title>\r\n",
       "<path fill=\"#e58139\" stroke=\"black\" d=\"M462,-53C462,-53 383,-53 383,-53 377,-53 371,-47 371,-41 371,-41 371,-12 371,-12 371,-6 377,-0 383,-0 383,-0 462,-0 462,-0 468,-0 474,-6 474,-12 474,-12 474,-41 474,-41 474,-47 468,-53 462,-53\"/>\r\n",
       "<text text-anchor=\"start\" x=\"382\" y=\"-37.8\" font-family=\"Helvetica,sans-Serif\" font-size=\"14.00\">mse = 0.567</text>\r\n",
       "<text text-anchor=\"start\" x=\"379\" y=\"-22.8\" font-family=\"Helvetica,sans-Serif\" font-size=\"14.00\">samples = 62</text>\r\n",
       "<text text-anchor=\"start\" x=\"383.5\" y=\"-7.8\" font-family=\"Helvetica,sans-Serif\" font-size=\"14.00\">value = 9.25</text>\r\n",
       "</g>\r\n",
       "<!-- 4&#45;&gt;6 -->\r\n",
       "<g id=\"edge6\" class=\"edge\"><title>4&#45;&gt;6</title>\r\n",
       "<path fill=\"none\" stroke=\"black\" d=\"M346.421,-88.9485C358.2,-79.4346 371.027,-69.074 382.735,-59.6175\"/>\r\n",
       "<polygon fill=\"black\" stroke=\"black\" points=\"385.055,-62.2429 390.636,-53.2367 380.657,-56.7973 385.055,-62.2429\"/>\r\n",
       "</g>\r\n",
       "</g>\r\n",
       "</svg>\r\n"
      ],
      "text/plain": [
       "<graphviz.files.Source at 0x2a1064b3f40>"
      ]
     },
     "execution_count": 57,
     "metadata": {},
     "output_type": "execute_result"
    }
   ],
   "source": [
    "plot_tree_regression(dt_regression, features)"
   ]
  },
  {
   "cell_type": "code",
   "execution_count": null,
   "metadata": {},
   "outputs": [],
   "source": []
  }
 ],
 "metadata": {
  "kernelspec": {
   "display_name": "Python 3",
   "language": "python",
   "name": "python3"
  },
  "language_info": {
   "codemirror_mode": {
    "name": "ipython",
    "version": 3
   },
   "file_extension": ".py",
   "mimetype": "text/x-python",
   "name": "python",
   "nbconvert_exporter": "python",
   "pygments_lexer": "ipython3",
   "version": "3.8.5"
  }
 },
 "nbformat": 4,
 "nbformat_minor": 4
}
